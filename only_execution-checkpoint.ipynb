{
 "cells": [
  {
   "cell_type": "code",
   "execution_count": 14,
   "id": "222d75dc-7615-437d-a71f-70357a6b3150",
   "metadata": {},
   "outputs": [
    {
     "name": "stdout",
     "output_type": "stream",
     "text": [
      "모델 경로: C:\\Users\\yeonj\\ossprojext\\emotion\\emotion_mlp_model.sav\n",
      "벡터라이저 경로: C:\\Users\\yeonj\\emotion\\emotion_vectorizer.pkl\n",
      "레이블 인코더 경로: C:\\Users\\yeonj\\emotion\\emotion_label_encoder.pkl\n"
     ]
    },
    {
     "name": "stdin",
     "output_type": "stream",
     "text": [
      "감정을 표현할 문장을 입력하세요:  슬퍼\n"
     ]
    },
    {
     "name": "stdout",
     "output_type": "stream",
     "text": [
      "예측된 감정: 슬픔, 이모티콘: 😢\n"
     ]
    }
   ],
   "source": [
    "import pandas as pd\n",
    "from sklearn.feature_extraction.text import TfidfVectorizer\n",
    "from sklearn.preprocessing import LabelEncoder\n",
    "from sklearn.model_selection import train_test_split\n",
    "from sklearn.neural_network import MLPClassifier\n",
    "from sklearn.metrics import classification_report, accuracy_score\n",
    "import pickle\n",
    "import os\n",
    "\n",
    "\n",
    "print(f\"모델 경로: {model_path}\")\n",
    "print(f\"벡터라이저 경로: {vectorizer_path}\")\n",
    "print(f\"레이블 인코더 경로: {label_encoder_path}\")\n",
    "\n",
    "# 현재 디렉토리 경로를 기준으로 파일 경로 설정\n",
    "current_dir = os.getcwd()\n",
    "model_path = os.path.join(current_dir,'ossproject', 'emotion', 'emotion_mlp_model.sav')\n",
    "vectorizer_path = os.path.join(current_dir, 'ossproject', 'emotion', 'emotion_vectorizer.pkl')\n",
    "label_encoder_path = os.path.join(current_dir, 'ossproject', 'emotion', 'emotion_label_encoder.pkl')\n",
    "\n",
    "# 사용자 입력에 따라 감정을 예측하고 이모티콘 출력\n",
    "def predict_emotion():\n",
    "    # 모델, 벡터라이저, 레이블 인코더 로드\n",
    "    try:\n",
    "        with open(model_path, 'rb') as f:\n",
    "            loaded_model = pickle.load(f)\n",
    "        with open(vectorizer_path, 'rb') as f:\n",
    "            loaded_vectorizer = pickle.load(f)\n",
    "        with open(label_encoder_path, 'rb') as f:\n",
    "            loaded_label_encoder = pickle.load(f)\n",
    "    except FileNotFoundError:\n",
    "        print(\"모델 또는 관련 파일이 존재하지 않습니다. 먼저 모델을 학습하고 저장하세요.\")\n",
    "        return\n",
    "\n",
    "    # 임티 매핑\n",
    "    emotion_to_emoji = {\n",
    "        \"분노\": \"😡\",   # 분노를 나타내는 화난 얼굴\n",
    "        \"기쁨\": \"😊\",   # 기쁨을 나타내는 미소 짓는 얼굴\n",
    "        \"불안\": \"😰\",   # 불안을 나타내는 걱정스러운 얼굴\n",
    "        \"당황\": \"😳\",   # 당황을 나타내는 놀란 얼굴\n",
    "        \"슬픔\": \"😢\",   # 슬픔을 나타내는 눈물 흘리는 얼굴\n",
    "        \"상처\": \"💔\"    # 상처를 나타내는 깨진 하트\n",
    "    }\n",
    "\n",
    "    # 입력 받기\n",
    "    user_input = input(\"감정을 표현할 문장을 입력하세요: \")\n",
    "\n",
    "    # 입력된 문장을 벡터화\n",
    "    input_vector = loaded_vectorizer.transform([user_input])\n",
    "\n",
    "    # 예측 수행\n",
    "    predicted_label = loaded_model.predict(input_vector)\n",
    "    emotion = loaded_label_encoder.inverse_transform(predicted_label)[0]\n",
    "\n",
    "    # 예측된 감정과 이모티콘 출력\n",
    "    emoji = emotion_to_emoji.get(emotion, \"❓\")  # 매핑되지 않은 경우 기본값으로 ❓ 설정\n",
    "    print(f\"예측된 감정: {emotion}, 이모티콘: {emoji}\")\n",
    "\n",
    "# 함수 호출\n",
    "predict_emotion()\n"
   ]
  },
  {
   "cell_type": "code",
   "execution_count": null,
   "id": "b052fb20-3425-416e-9ff9-58186d592661",
   "metadata": {},
   "outputs": [],
   "source": []
  },
  {
   "cell_type": "code",
   "execution_count": null,
   "id": "358d5cf3-c4a6-4ebd-b4f3-6ea7f8383536",
   "metadata": {},
   "outputs": [],
   "source": []
  }
 ],
 "metadata": {
  "kernelspec": {
   "display_name": "Python 3 (ipykernel)",
   "language": "python",
   "name": "python3"
  },
  "language_info": {
   "codemirror_mode": {
    "name": "ipython",
    "version": 3
   },
   "file_extension": ".py",
   "mimetype": "text/x-python",
   "name": "python",
   "nbconvert_exporter": "python",
   "pygments_lexer": "ipython3",
   "version": "3.12.2"
  }
 },
 "nbformat": 4,
 "nbformat_minor": 5
}
